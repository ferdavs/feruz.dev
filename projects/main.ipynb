{
 "cells": [
  {
   "cell_type": "markdown",
   "id": "dddee44d",
   "metadata": {},
   "source": [
    "base time complexity N^2\n",
    "lim [size(nums) -> inf] O(twoSum(nums, t)) = \n",
    "base space complexity 1000000"
   ]
  },
  {
   "cell_type": "code",
   "execution_count": 1,
   "id": "77585b11",
   "metadata": {},
   "outputs": [],
   "source": [
    "def twoSum(nums: list[int], target: int) -> list[int]:\n",
    "    result = []\n",
    "    for i in range(len(nums)):\n",
    "        for j in range(len(nums)):\n",
    "            if nums[i] + nums[j] == target and i != j:\n",
    "                # print(f\"{i}:{j}\")\n",
    "                result.append(i)\n",
    "                result.append(j)\n",
    "                return result"
   ]
  },
  {
   "cell_type": "code",
   "execution_count": null,
   "id": "494546db",
   "metadata": {},
   "outputs": [],
   "source": [
    "def twoSum(nums, target):\n",
    "    #\n",
    "    s = 2\n",
    "    for i in range(len(nums)):\n",
    "        for j in range(i + s, len(nums), s):\n",
    "            if nums[i] + nums[j] == target:\n",
    "\n",
    "                return [nums[i], nums[j]]\n",
    "        s = 2 * s"
   ]
  },
  {
   "cell_type": "code",
   "execution_count": 2,
   "id": "a4c07013",
   "metadata": {},
   "outputs": [
    {
     "data": {
      "text/plain": [
       "[0, 1, 4, 9, 16, 25, 49, 64]"
      ]
     },
     "execution_count": 2,
     "metadata": {},
     "output_type": "execute_result"
    }
   ],
   "source": [
    "def sortedSquares(nums):\n",
    "    result = [0] * len(nums)\n",
    "    i = 0\n",
    "    j = len(nums) - 1\n",
    "    for c in range(j, -1, -1):\n",
    "        if abs(nums[i]) > abs(nums[j]):\n",
    "            result[c] = nums[i] * nums[i]\n",
    "            i += 1\n",
    "        else:\n",
    "            result[c] = nums[j] * nums[j]\n",
    "            j -= 1\n",
    "    return result\n",
    "\n",
    "sortedSquares([-8, -7, -5, -4,-1,0,2,3])"
   ]
  },
  {
   "cell_type": "code",
   "execution_count": 3,
   "id": "9a88cf19",
   "metadata": {},
   "outputs": [
    {
     "data": {
      "text/plain": [
       "(12.75, 1, 4)"
      ]
     },
     "execution_count": 3,
     "metadata": {},
     "output_type": "execute_result"
    }
   ],
   "source": [
    "def findMaxAverage(nums: list[int], k: int):\n",
    "    left = avg = 0\n",
    "    for i in range(k):\n",
    "        avg += nums[i] / k\n",
    "    best = avg\n",
    "    best_right = k - 1\n",
    "    best_left = 0\n",
    "    for right in range(k, len(nums)):\n",
    "        avg += (nums[right] - nums[left]) / k\n",
    "        left += 1\n",
    "        if avg > best:\n",
    "            best = avg\n",
    "            best_right = right\n",
    "            best_left = left\n",
    "\n",
    "    return best, best_left, best_right\n",
    "\n",
    "\n",
    "findMaxAverage([1, 12, -5, -6, 50, 3], 4)"
   ]
  },
  {
   "cell_type": "code",
   "execution_count": 4,
   "id": "7ca397c8",
   "metadata": {},
   "outputs": [
    {
     "name": "stdout",
     "output_type": "stream",
     "text": [
      "[1, 3, 6, 10, 15]\n"
     ]
    },
    {
     "data": {
      "text/plain": [
       "[True, True, False]"
      ]
     },
     "execution_count": 4,
     "metadata": {},
     "output_type": "execute_result"
    }
   ],
   "source": [
    "def answer_queries(nums, queries, limit):\n",
    "    prefix = [nums[0]]\n",
    "    for i in range(1, len(nums)):\n",
    "        prefix.append(nums[i] + prefix[-1])\n",
    "    print(prefix)\n",
    "    ans = []\n",
    "    for x, y in queries:\n",
    "        curr = prefix[y] - prefix[x] + nums[x]\n",
    "        ans.append(curr < limit)\n",
    "\n",
    "    return ans\n",
    "\n",
    "answer_queries([1, 2, 3, 4, 5], [[1, 2], [1, 3], [1, 4]], 10)"
   ]
  },
  {
   "cell_type": "code",
   "execution_count": 16,
   "id": "aeb4ec3c",
   "metadata": {},
   "outputs": [
    {
     "data": {
      "text/plain": [
       "[0, 1, 1, 2, 3, 5, 8, 13, 21]"
      ]
     },
     "execution_count": 16,
     "metadata": {},
     "output_type": "execute_result"
    }
   ],
   "source": [
    "def runningSum( nums: list[int]) -> list[int]:\n",
    "    if not nums:\n",
    "        return []\n",
    "    result = [nums[0]]*len(nums)\n",
    "    for i in range(1, len(nums)):\n",
    "        result[i]=result[i-1]+nums[i]\n",
    "    return result\n",
    "\n",
    "runningSum([0,1,0,1,1,2,3,5,8])"
   ]
  },
  {
   "cell_type": "code",
   "execution_count": 17,
   "id": "e506e9fb",
   "metadata": {},
   "outputs": [
    {
     "data": {
      "text/plain": [
       "4"
      ]
     },
     "execution_count": 17,
     "metadata": {},
     "output_type": "execute_result"
    }
   ],
   "source": [
    "def minStartValue(nums: list[int]) -> int:\n",
    "    minVal = nums[0]\n",
    "    rsum = nums[0]\n",
    "    for i in range(1, len(nums)):\n",
    "        rsum += nums[i]\n",
    "        minVal = min(minVal, rsum)\n",
    "    return max(1, 1 - minVal)\n",
    "\n",
    "\n",
    "minStartValue([-3])"
   ]
  },
  {
   "cell_type": "code",
   "execution_count": 5,
   "id": "dd5269a4",
   "metadata": {},
   "outputs": [
    {
     "data": {
      "text/plain": [
       "[-1, 4, 5, 4, 6, 4, 5, 4, -1]"
      ]
     },
     "execution_count": 5,
     "metadata": {},
     "output_type": "execute_result"
    }
   ],
   "source": [
    "def getAverages(nums: list[int], k: int) -> list[int]:\n",
    "    result = [-1] * len(nums)\n",
    "    if k >= len(nums):\n",
    "        return result\n",
    "    psum = [nums[0]] * len(nums)\n",
    "    for i in range(1, len(nums)):\n",
    "        psum[i] = nums[i] + psum[i - 1]\n",
    "    for i in range(k, len(psum) - k):\n",
    "        result[i] = (psum[i + k] - psum[i - k] + nums[i - k]) // (2 * k + 1)\n",
    "    return result\n",
    "\n",
    "\n",
    "getAverages([7, 4, 3, 9, 1, 8, 5, 2, 6], 1)"
   ]
  },
  {
   "cell_type": "code",
   "execution_count": 14,
   "id": "26dafd08",
   "metadata": {},
   "outputs": [
    {
     "name": "stdout",
     "output_type": "stream",
     "text": [
      "defaultdict(<class 'int'>, {0: 1, 2: 3, 1: 1, 3: 2, 4: 0})\n"
     ]
    },
    {
     "data": {
      "text/plain": [
       "3"
      ]
     },
     "execution_count": 14,
     "metadata": {},
     "output_type": "execute_result"
    }
   ],
   "source": [
    "from collections import defaultdict\n",
    "\n",
    "\n",
    "def subarraySum(nums, k):\n",
    "    counts = defaultdict(int)\n",
    "    counts[0] = 1\n",
    "    curr = result = 0\n",
    "    for num in nums:\n",
    "        curr += num\n",
    "        result += counts[curr - k]\n",
    "        counts[curr] += 1\n",
    "    print(counts)\n",
    "    return result\n",
    "\n",
    "subarraySum([1, 1, 1, -1, 1, -1], -1)"
   ]
  },
  {
   "cell_type": "code",
   "execution_count": 17,
   "id": "105c2ef3",
   "metadata": {},
   "outputs": [
    {
     "data": {
      "text/plain": [
       "2"
      ]
     },
     "execution_count": 17,
     "metadata": {},
     "output_type": "execute_result"
    }
   ],
   "source": [
    "def oddNumberSubarrays(arr, k):\n",
    "    counts = defaultdict(int)\n",
    "    counts[0] = 1\n",
    "    curr = result = 0\n",
    "    for num in arr:\n",
    "        curr += num % 2\n",
    "        result += counts[curr - k]\n",
    "        counts[curr] += 1\n",
    "\n",
    "    return result\n",
    "\n",
    "oddNumberSubarrays([1, 1, 2, 1, 1], 3)"
   ]
  },
  {
   "cell_type": "code",
   "execution_count": 49,
   "id": "637b98c7",
   "metadata": {},
   "outputs": [
    {
     "name": "stdout",
     "output_type": "stream",
     "text": [
      "defaultdict(<class 'int'>, {1: 1, 2: 1, 3: 1, 5: 2, 4: 3, 10: 2})\n",
      "defaultdict(<class 'int'>, {3: 2, 6: 2, 7: 1, 5: 1, 8: 1, 9: 2, 4: 1})\n"
     ]
    },
    {
     "data": {
      "text/plain": [
       "[[1, 2, 10], [4, 5, 7, 8]]"
      ]
     },
     "execution_count": 49,
     "metadata": {},
     "output_type": "execute_result"
    }
   ],
   "source": [
    "from typing import List\n",
    "from collections import defaultdict\n",
    "\n",
    "def findWinners(matches: List[List[int]]) -> List[List[int]]:\n",
    "    winners = defaultdict(int)\n",
    "    losers = defaultdict(int)\n",
    "    \n",
    "    for w, l in matches:\n",
    "        winners[w] += 1\n",
    "        losers[l] += 1\n",
    "        \n",
    "    print(winners)\n",
    "    print(losers)\n",
    "    winners = [k for k,_ in winners.items() if k not in losers]\n",
    "    winners.sort()\n",
    "    losers=[k for k,v in losers.items() if v==1]\n",
    "    losers.sort()        \n",
    "    return [winners, losers]\n",
    "\n",
    "findWinners(\n",
    "    [[1, 3], [2, 3], [3, 6], [5, 6], [5, 7], [4, 5], [4, 8], [4, 9], [10, 4], [10, 9]]\n",
    ")"
   ]
  },
  {
   "cell_type": "code",
   "execution_count": 40,
   "id": "ea0dcaa6",
   "metadata": {},
   "outputs": [
    {
     "data": {
      "text/plain": [
       "2"
      ]
     },
     "execution_count": 40,
     "metadata": {},
     "output_type": "execute_result"
    }
   ],
   "source": [
    "from collections import Counter\n",
    "\n",
    "\n",
    "def maxNumberOfBalloons(text: str) -> int:\n",
    "    recipe = Counter(\"balloon\")\n",
    "    counts = Counter(text)\n",
    "    # print(counts + recipe)\n",
    "    return min((counts[k] // recipe[k] for k in recipe.keys()), default=0)\n",
    "\n",
    "\n",
    "maxNumberOfBalloons(\"nlaebolkonlaebolko\")"
   ]
  },
  {
   "cell_type": "code",
   "execution_count": 4,
   "id": "8c5c9023",
   "metadata": {},
   "outputs": [
    {
     "data": {
      "text/plain": [
       "12"
      ]
     },
     "execution_count": 4,
     "metadata": {},
     "output_type": "execute_result"
    }
   ],
   "source": [
    "from collections import defaultdict\n",
    "\n",
    "\n",
    "def findMaxLength(nums: list[int]):\n",
    "    counts = defaultdict(int)\n",
    "    counts[0] = -1\n",
    "    acc = result = 0\n",
    "    ans = []\n",
    "    sums = 0\n",
    "    mean = 0\n",
    "    for i in range(len(nums)):\n",
    "        acc += 1 if nums[i] == 1 else -1\n",
    "        if acc in counts:\n",
    "            result = max(result, i - counts[acc])\n",
    "            ans.append((counts[acc] + 1, i))\n",
    "            sums += i - counts[acc]+1\n",
    "            mean = sums / len(ans)\n",
    "        else:\n",
    "            counts[acc] = i\n",
    "    # print(counts)\n",
    "    return result #, mean, ans  # sum(map(lambda a: a[1]-a[0]+1, ans))/len(ans)\n",
    "\n",
    "findMaxLength([1, 1, 1, 0, 1, 0, 1, 0, 0, 0, 0, 1, 0])"
   ]
  },
  {
   "cell_type": "code",
   "execution_count": null,
   "id": "56845bc4",
   "metadata": {},
   "outputs": [],
   "source": []
  }
 ],
 "metadata": {
  "kernelspec": {
   "display_name": ".venv",
   "language": "python",
   "name": "python3"
  },
  "language_info": {
   "codemirror_mode": {
    "name": "ipython",
    "version": 3
   },
   "file_extension": ".py",
   "mimetype": "text/x-python",
   "name": "python",
   "nbconvert_exporter": "python",
   "pygments_lexer": "ipython3",
   "version": "3.11.8"
  }
 },
 "nbformat": 4,
 "nbformat_minor": 5
}
