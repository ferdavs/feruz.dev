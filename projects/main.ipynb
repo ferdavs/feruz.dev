{
 "cells": [
  {
   "cell_type": "markdown",
   "id": "dddee44d",
   "metadata": {},
   "source": [
    "base time complexity N^2\n",
    "lim [size(nums) -> inf] O(twoSum(nums, t)) = \n",
    "base space complexity 1000000"
   ]
  },
  {
   "cell_type": "code",
   "execution_count": 12,
   "id": "77585b11",
   "metadata": {},
   "outputs": [],
   "source": [
    "def twoSum(nums: list[int], target: int) -> list[int]:\n",
    "    result = []\n",
    "    for i in range(len(nums)):\n",
    "        for j in range(len(nums)):\n",
    "            if nums[i] + nums[j] == target and i != j:\n",
    "                # print(f\"{i}:{j}\")\n",
    "                result.append(i)\n",
    "                result.append(j)\n",
    "                return result"
   ]
  },
  {
   "cell_type": "code",
   "execution_count": null,
   "id": "494546db",
   "metadata": {},
   "outputs": [],
   "source": [
    "def twoSum(nums, target):\n",
    "    #\n",
    "    s = 2\n",
    "    for i in range(len(nums)):\n",
    "        for j in range(i + s, len(nums), s):\n",
    "            if nums[i] + nums[j] == target:\n",
    "\n",
    "                return [nums[i], nums[j]]\n",
    "        s = 2 * s"
   ]
  },
  {
   "cell_type": "code",
   "execution_count": 2,
   "id": "a4c07013",
   "metadata": {},
   "outputs": [
    {
     "data": {
      "text/plain": [
       "[0, 1, 4, 9, 16, 25, 49, 64]"
      ]
     },
     "execution_count": 2,
     "metadata": {},
     "output_type": "execute_result"
    }
   ],
   "source": [
    "def sortedSquares(nums):\n",
    "    result = [0] * len(nums)\n",
    "    i = 0\n",
    "    j = len(nums) - 1\n",
    "    for c in range(j, -1, -1):\n",
    "        if abs(nums[i]) > abs(nums[j]):\n",
    "            result[c] = nums[i] * nums[i]\n",
    "            i += 1\n",
    "        else:\n",
    "            result[c] = nums[j] * nums[j]\n",
    "            j -= 1\n",
    "    return result\n",
    "\n",
    "sortedSquares([-8, -7, -5, -4,-1,0,2,3])"
   ]
  },
  {
   "cell_type": "code",
   "execution_count": 1,
   "id": "9a88cf19",
   "metadata": {},
   "outputs": [
    {
     "data": {
      "text/plain": [
       "(12.75, 1, 4)"
      ]
     },
     "execution_count": 1,
     "metadata": {},
     "output_type": "execute_result"
    }
   ],
   "source": [
    "def findMaxAverage(nums: list[int], k: int):\n",
    "    left = avg = 0\n",
    "    for i in range(k):\n",
    "        avg += nums[i] / k\n",
    "    best = avg\n",
    "    best_right = k - 1\n",
    "    best_left = 0\n",
    "    for right in range(k, len(nums)):\n",
    "        avg += (nums[right] - nums[left]) / k\n",
    "        left += 1\n",
    "        if avg > best:\n",
    "            best = avg\n",
    "            best_right = right\n",
    "            best_left = left\n",
    "\n",
    "    return best, best_left, best_right\n",
    "\n",
    "\n",
    "findMaxAverage([1, 12, -5, -6, 50, 3], 4)"
   ]
  },
  {
   "cell_type": "code",
   "execution_count": 4,
   "id": "7ca397c8",
   "metadata": {},
   "outputs": [
    {
     "name": "stdout",
     "output_type": "stream",
     "text": [
      "[1, 3, 6, 10, 15]\n"
     ]
    },
    {
     "data": {
      "text/plain": [
       "[True, True, False]"
      ]
     },
     "execution_count": 4,
     "metadata": {},
     "output_type": "execute_result"
    }
   ],
   "source": [
    "def answer_queries(nums, queries, limit):\n",
    "    prefix = [nums[0]]\n",
    "    for i in range(1, len(nums)):\n",
    "        prefix.append(nums[i] + prefix[-1])\n",
    "    print(prefix)\n",
    "    ans = []\n",
    "    for x, y in queries:\n",
    "        curr = prefix[y] - prefix[x] + nums[x]\n",
    "        ans.append(curr < limit)\n",
    "\n",
    "    return ans\n",
    "\n",
    "answer_queries([1, 2, 3, 4, 5], [[1, 2], [1, 3], [1, 4]], 10)"
   ]
  },
  {
   "cell_type": "code",
   "execution_count": 16,
   "id": "aeb4ec3c",
   "metadata": {},
   "outputs": [
    {
     "data": {
      "text/plain": [
       "[0, 1, 1, 2, 3, 5, 8, 13, 21]"
      ]
     },
     "execution_count": 16,
     "metadata": {},
     "output_type": "execute_result"
    }
   ],
   "source": [
    "def runningSum( nums: list[int]) -> list[int]:\n",
    "    if not nums:\n",
    "        return []\n",
    "    result = [nums[0]]*len(nums)\n",
    "    for i in range(1, len(nums)):\n",
    "        result[i]=result[i-1]+nums[i]\n",
    "    return result\n",
    "\n",
    "runningSum([0,1,0,1,1,2,3,5,8])"
   ]
  },
  {
   "cell_type": "code",
   "execution_count": 17,
   "id": "e506e9fb",
   "metadata": {},
   "outputs": [
    {
     "data": {
      "text/plain": [
       "4"
      ]
     },
     "execution_count": 17,
     "metadata": {},
     "output_type": "execute_result"
    }
   ],
   "source": [
    "def minStartValue(nums: list[int]) -> int:\n",
    "    minVal = nums[0]\n",
    "    rsum = nums[0]\n",
    "    for i in range(1, len(nums)):\n",
    "        rsum += nums[i]\n",
    "        minVal = min(minVal, rsum)\n",
    "    return max(1, 1 - minVal)\n",
    "\n",
    "\n",
    "minStartValue([-3])"
   ]
  },
  {
   "cell_type": "code",
   "execution_count": 2,
   "id": "dd5269a4",
   "metadata": {},
   "outputs": [
    {
     "data": {
      "text/plain": [
       "[-1, 4, 5, 4, 6, 4, 5, 4, -1]"
      ]
     },
     "execution_count": 2,
     "metadata": {},
     "output_type": "execute_result"
    }
   ],
   "source": [
    "def getAverages(nums: list[int], k: int) -> list[int]:\n",
    "    result = [-1] * len(nums)\n",
    "    if k >= len(nums):\n",
    "        return result\n",
    "    psum = [nums[0]] * len(nums)\n",
    "    for i in range(1, len(nums)):\n",
    "        psum[i] = nums[i] + psum[i - 1]\n",
    "    for i in range(k, len(psum) - k):\n",
    "        result[i] = (psum[i + k] - psum[i - k] + nums[i - k]) // (2 * k + 1)\n",
    "    return result\n",
    "\n",
    "\n",
    "getAverages([7, 4, 3, 9, 1, 8, 5, 2, 6], 1)"
   ]
  }
 ],
 "metadata": {
  "kernelspec": {
   "display_name": ".venv",
   "language": "python",
   "name": "python3"
  },
  "language_info": {
   "codemirror_mode": {
    "name": "ipython",
    "version": 3
   },
   "file_extension": ".py",
   "mimetype": "text/x-python",
   "name": "python",
   "nbconvert_exporter": "python",
   "pygments_lexer": "ipython3",
   "version": "3.11.8"
  }
 },
 "nbformat": 4,
 "nbformat_minor": 5
}
